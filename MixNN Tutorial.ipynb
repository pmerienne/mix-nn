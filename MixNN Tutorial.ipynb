{
 "cells": [
  {
   "cell_type": "markdown",
   "metadata": {},
   "source": [
    "# Titanic Dataset\n",
    "Mix of categorical and numerical"
   ]
  },
  {
   "cell_type": "code",
   "execution_count": null,
   "metadata": {},
   "outputs": [],
   "source": [
    "from mixnn import datasets\n",
    "\n",
    "features, (X_train, y_train), (X_validation, y_validation) = datasets.load_titanic_data()\n",
    "\n",
    "print('Features:')\n",
    "for feature in features:\n",
    "    print(feature)\n",
    "print('---------------------------------')\n",
    "print('Training: ', X_train.shape)\n",
    "print('Validation: ', X_validation.shape)\n",
    "print('---------------------------------')\n",
    "print(\"2 rows of training data:\")\n",
    "X_train[:2,...]"
   ]
  },
  {
   "cell_type": "code",
   "execution_count": null,
   "metadata": {},
   "outputs": [],
   "source": [
    "from mixnn.model import MixNNClassifier\n",
    "\n",
    "classifier = MixNNClassifier(features, max_embedding_size=2)\n",
    "classifier.fit(\n",
    "    X_train, y_train,\n",
    "    validation_data=(X_validation, y_validation),\n",
    ")"
   ]
  },
  {
   "cell_type": "markdown",
   "metadata": {},
   "source": [
    "# MNIST handwritten digit\n",
    "Only images"
   ]
  },
  {
   "cell_type": "code",
   "execution_count": null,
   "metadata": {},
   "outputs": [],
   "source": [
    "from mixnn import datasets\n",
    "\n",
    "features, (X_train, y_train), (X_validation, y_validation) = datasets.load_mnist_digits_data()\n",
    "\n",
    "print('Features:')\n",
    "for feature in features:\n",
    "    print(feature)\n",
    "print('---------------------------------')\n",
    "print('Training: ', X_train.shape)\n",
    "print('Validation: ', X_validation.shape)\n",
    "print('---------------------------------')\n",
    "print(\"2 rows of training data:\")\n",
    "X_train[:2,...]"
   ]
  },
  {
   "cell_type": "code",
   "execution_count": null,
   "metadata": {},
   "outputs": [],
   "source": [
    "from mixnn.model import MixNNClassifier\n",
    "\n",
    "classifier = MixNNClassifier(features, batch_size=512)\n",
    "classifier.fit(\n",
    "    X_train, y_train,\n",
    "    validation_data=(X_validation, y_validation),\n",
    ")"
   ]
  },
  {
   "cell_type": "code",
   "execution_count": null,
   "metadata": {},
   "outputs": [],
   "source": [
    "from sklearn.metrics import classification_report, confusion_matrix,  accuracy_score\n",
    "\n",
    "y_pred = classifier.predict(X_validation)\n",
    "\n",
    "print('Accuracy: %s' % accuracy_score(y_validation, y_pred))\n",
    "print(classification_report(y_validation, y_pred))\n",
    "confusion_matrix(y_validation, y_pred)"
   ]
  },
  {
   "cell_type": "markdown",
   "metadata": {},
   "source": [
    "# MNIST Skin Cancer"
   ]
  },
  {
   "cell_type": "code",
   "execution_count": null,
   "metadata": {},
   "outputs": [],
   "source": [
    "import pandas as pd\n",
    "\n",
    "df = pd.read_csv('/DATA/skin-cancer-mnist-ham10000/HAM10000_metadata.csv')\n",
    "df['lesion_image'] = df['image_id'].map(lambda image_id: '/DATA/skin-cancer-mnist-ham10000/images/%s.jpg' % image_id)\n",
    "df.head()"
   ]
  },
  {
   "cell_type": "code",
   "execution_count": null,
   "metadata": {},
   "outputs": [],
   "source": [
    "nb_duplicates = df['lesion_id'].duplicated().sum()\n",
    "print('Removing %s/%s duplicates' % (nb_duplicates, df.shape[0]))\n",
    "df = df.drop_duplicates(subset='lesion_id')"
   ]
  },
  {
   "cell_type": "code",
   "execution_count": null,
   "metadata": {},
   "outputs": [],
   "source": [
    "# TODO: 128/224 !?\n",
    "image_size = (128, 128, 3)\n",
    "features = [\n",
    "    #{\"name\": \"dx_type\", \"type\": \"categorical\"},\n",
    "    # {\"name\": \"sex\", \"type\": \"categorical\"},\n",
    "    # {\"name\": \"age\", \"type\": \"numerical\"},\n",
    "    # {\"name\": \"localization\", \"type\": \"categorical\"},\n",
    "    {\"name\": \"lesion_image\", \"type\": \"image\", \"cnn\": \"medium\", \"image_size\": image_size},\n",
    "]\n",
    "\n",
    "numericals = [feature['name'] for feature in features if feature['type'] == 'numerical']\n",
    "categorials = [feature['name'] for feature in features if feature['type'] == 'categorical']\n",
    "images = [feature['name'] for feature in features if feature['type'] == 'image']\n",
    "target = 'dx'"
   ]
  },
  {
   "cell_type": "code",
   "execution_count": null,
   "metadata": {},
   "outputs": [],
   "source": [
    "for column in categorials:\n",
    "    df[column] = df[column].fillna(\"N/A\")\n",
    "    \n",
    "for column in numericals:\n",
    "    df[column] = df[column].fillna(df[column].median())"
   ]
  },
  {
   "cell_type": "code",
   "execution_count": null,
   "metadata": {},
   "outputs": [],
   "source": [
    "import matplotlib.pyplot as plt\n",
    "import seaborn as sns\n",
    "%matplotlib inline\n",
    "\n",
    "plt.figure()\n",
    "sns.countplot(x=target, data=df)\n",
    "\n",
    "for column in categorials:\n",
    "    plt.figure()\n",
    "    sns.countplot(x=column, data=df)\n",
    "\n",
    "if numericals:\n",
    "    plt.figure()\n",
    "    sns.pairplot(df[numericals + [target]], hue=target)"
   ]
  },
  {
   "cell_type": "code",
   "execution_count": null,
   "metadata": {},
   "outputs": [],
   "source": [
    "from mixnn.preprocessing import ImageEncoder\n",
    "from matplotlib.pyplot import imshow\n",
    "\n",
    "encoder = ImageEncoder(image_size)\n",
    "classes = df['dx'].unique()\n",
    "nb_classes = len(classes)\n",
    "nb_images = 5\n",
    "\n",
    "fig = plt.figure(figsize=(30, 30))\n",
    "for i, clazz in enumerate(classes):\n",
    "    class_images = df[df['dx'] == clazz].sample(nb_images)['lesion_image'].values\n",
    "    for j, img_path in enumerate(class_images):\n",
    "        img = encoder.load_image(img_path)\n",
    "        ax = fig.add_subplot(nb_classes, nb_images, i * nb_images + j + 1)\n",
    "        ax.title.set_text('%s - %s' % (clazz, j))\n",
    "        ax.imshow(img)"
   ]
  },
  {
   "cell_type": "code",
   "execution_count": null,
   "metadata": {},
   "outputs": [],
   "source": [
    "from sklearn.model_selection import train_test_split\n",
    "\n",
    "X = df[[f['name'] for f in features]].values\n",
    "y = df['dx'].values\n",
    "\n",
    "X_train, X_validation, y_train, y_validation = train_test_split(X, y, test_size=0.2, random_state=101, stratify=y)\n",
    "\n",
    "print('Training: ', X_train.shape)\n",
    "print('Validation: ', X_validation.shape)\n",
    "\n",
    "print(\"2 rows of training data:\")\n",
    "X_train[:2,...]"
   ]
  },
  {
   "cell_type": "code",
   "execution_count": null,
   "metadata": {},
   "outputs": [],
   "source": [
    "from mixnn.model import MixNNClassifier\n",
    "\n",
    "import warnings\n",
    "warnings.simplefilter('ignore')\n",
    "\n",
    "estimator = MixNNClassifier(\n",
    "    features, \n",
    "    fc_layers=0, \n",
    "    batch_size=8,\n",
    "    early_stopping_rounds=4,\n",
    ")\n",
    "history = estimator.fit(\n",
    "    X_train, y_train,\n",
    "    validation_data=(X_validation, y_validation),\n",
    "    class_weight='auto',\n",
    "    \n",
    "    #plot=True,\n",
    ")\n",
    "pd.DataFrame(history.history).plot.line(figsize=(16, 6))"
   ]
  },
  {
   "cell_type": "code",
   "execution_count": null,
   "metadata": {},
   "outputs": [],
   "source": []
  }
 ],
 "metadata": {
  "kernelspec": {
   "display_name": "Python 3",
   "language": "python",
   "name": "python3"
  },
  "language_info": {
   "codemirror_mode": {
    "name": "ipython",
    "version": 3
   },
   "file_extension": ".py",
   "mimetype": "text/x-python",
   "name": "python",
   "nbconvert_exporter": "python",
   "pygments_lexer": "ipython3",
   "version": "3.6.7"
  }
 },
 "nbformat": 4,
 "nbformat_minor": 2
}
